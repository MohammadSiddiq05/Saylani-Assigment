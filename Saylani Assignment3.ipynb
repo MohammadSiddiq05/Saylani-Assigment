{
 "cells": [
  {
   "cell_type": "markdown",
   "id": "f235bbbc-23f0-4d94-9de4-76fbc200e2ee",
   "metadata": {},
   "source": [
    "#### 1. Write a program that accepts a list from user and print the alternate element of list. \r\n"
   ]
  },
  {
   "cell_type": "code",
   "execution_count": 1,
   "id": "29f0eefc-aa86-4e6a-80d8-e0a54022defb",
   "metadata": {},
   "outputs": [
    {
     "name": "stdin",
     "output_type": "stream",
     "text": [
      "Enter a list:  rose lily jasmin\n"
     ]
    },
    {
     "name": "stdout",
     "output_type": "stream",
     "text": [
      "Alternate elements of the list are: ['rose', 'jasmin']\n"
     ]
    }
   ],
   "source": [
    "user_input = input(\"Enter a list: \")\n",
    "user_list = user_input.split()\n",
    "\n",
    "alternate = user_list[::2]\n",
    "print(\"Alternate elements of the list are:\", alternate)"
   ]
  },
  {
   "cell_type": "markdown",
   "id": "4a65221c-cf4c-4b13-a99d-1962929718b3",
   "metadata": {},
   "source": [
    "#### 2. Write a program that accepts a list from user. Your program should reverse the content of list and \n",
    "display it. Do not use reverse() method. "
   ]
  },
  {
   "cell_type": "code",
   "execution_count": 4,
   "id": "427c06b0-6a8f-48c7-8f76-7375bdfe7a8b",
   "metadata": {},
   "outputs": [
    {
     "name": "stdin",
     "output_type": "stream",
     "text": [
      "Enter a list:  rose jasmin lily\n"
     ]
    },
    {
     "name": "stdout",
     "output_type": "stream",
     "text": [
      "Reversed List is: ['lily', 'jasmin', 'rose']\n"
     ]
    }
   ],
   "source": [
    "user_input = input(\"Enter a list: \")\n",
    "user_list = user_input.split()\n",
    "\n",
    "reversed_list = user_list[::-1]\n",
    "print(\"Reversed List is:\", reversed_list)"
   ]
  },
  {
   "cell_type": "markdown",
   "id": "dfa064ed-adad-45a4-8771-e33df5d8eda7",
   "metadata": {},
   "source": [
    "#### 3. Find and display the largest number of a list without using built-in function max(). Your program \n",
    "should ask the user to input values in list from keyboard. "
   ]
  },
  {
   "cell_type": "code",
   "execution_count": 6,
   "id": "336aa963-b849-48fd-962e-1afa098fd31f",
   "metadata": {},
   "outputs": [
    {
     "name": "stdin",
     "output_type": "stream",
     "text": [
      "Enter a list:  8 9 7\n"
     ]
    },
    {
     "name": "stdout",
     "output_type": "stream",
     "text": [
      "The largest num in the list is: 9\n"
     ]
    }
   ],
   "source": [
    "user_input = input(\"Enter a list: \")\n",
    "user_list = list(map(int, user_input.split()))\n",
    "\n",
    "largest = user_list[0]\n",
    "for num in user_list:\n",
    "    if num > largest:\n",
    "        largest = num\n",
    "print(\"The largest num in the list is:\", largest)"
   ]
  },
  {
   "cell_type": "markdown",
   "id": "46d8b4b0-0672-4fc7-84a2-60cef16205a1",
   "metadata": {},
   "source": [
    "####  4. Write a program that rotates the element of a list so that the element at the first index moves to the \n",
    "second index, the element in the second index moves to the third index, etc., and the element in the las \r\n",
    "index moves to the first index. \r"
   ]
  },
  {
   "cell_type": "code",
   "execution_count": 7,
   "id": "cc4b2bb4-f3f3-413b-ae65-302fa85b3fa0",
   "metadata": {},
   "outputs": [
    {
     "name": "stdin",
     "output_type": "stream",
     "text": [
      "Enter a list:  red yellow green blue\n"
     ]
    },
    {
     "name": "stdout",
     "output_type": "stream",
     "text": [
      "Rotated list is: ['blue', 'red', 'yellow', 'green']\n"
     ]
    }
   ],
   "source": [
    "user_input = input(\"Enter a list: \")\n",
    "user_list = user_input.split()\n",
    "\n",
    "rotate = user_list[-1:] + user_list[:-1]\n",
    "\n",
    "print(\"Rotated list is:\", rotate)"
   ]
  },
  {
   "cell_type": "markdown",
   "id": "58820dc7-af76-4bda-8382-657420013ca4",
   "metadata": {},
   "source": [
    "#### 5. Write a program that input a string and ask user to delete a given word from a string. \r"
   ]
  },
  {
   "cell_type": "code",
   "execution_count": 10,
   "id": "8a998ef8-1b56-43cd-8d1d-612ab104d915",
   "metadata": {},
   "outputs": [
    {
     "name": "stdin",
     "output_type": "stream",
     "text": [
      "Enter a string:  siddiq\n",
      "Enter a word or letter you want to delete s\n"
     ]
    },
    {
     "name": "stdout",
     "output_type": "stream",
     "text": [
      "Your new string will be:  iddiq\n"
     ]
    }
   ],
   "source": [
    "user_input = input(\"Enter a string: \")\n",
    "delete = input(\"Enter a word or letter you want to delete: \")\n",
    "new = user_input.replace(delete, \"\")\n",
    "print(\"Your new string will be: \", new)"
   ]
  },
  {
   "cell_type": "markdown",
   "id": "cb0582fc-ad2b-4fc6-919a-1e4e5bd9ab60",
   "metadata": {},
   "source": [
    "#### 6. Write a program that reads a string from the user containing a date in the form mm/dd/yyyy. It should print the date in the form March 12, 2021.\n",
    " "
   ]
  },
  {
   "cell_type": "code",
   "execution_count": 18,
   "id": "f24aa121-7bd5-4759-91ab-4894d01c8ac4",
   "metadata": {},
   "outputs": [
    {
     "name": "stdin",
     "output_type": "stream",
     "text": [
      "Enter a date (mm/dd//yyyy):  10/5/2005\n"
     ]
    },
    {
     "name": "stdout",
     "output_type": "stream",
     "text": [
      "October 5, 2005\n"
     ]
    }
   ],
   "source": [
    "user_date = input(\"Enter a date (mm/dd//yyyy): \")\n",
    "month, day, year = user_date.split('/')\n",
    "months = [\"January\", \"February\", \"March\", \"April\", \"May\", \"June\", \"July\", \"August\", \"September\", \"October\", \"November\", \"December\"]\n",
    "month_name = months[int(month) - 1]\n",
    "print(f\"{month_name} {int(day)}, {year}\")"
   ]
  },
  {
   "cell_type": "markdown",
   "id": "3a16879f-7420-49ef-abe4-7ac3d388bac1",
   "metadata": {},
   "source": [
    "#### 7. Write a program with a function that accepts a string from keyboard and create a new string after converting character of each word capitalized. For instance, if the sentence is \"stop and smell the roses.\" the output should be \"Stop And Smell The Roses\" \n"
   ]
  },
  {
   "cell_type": "code",
   "execution_count": 2,
   "id": "a03b63e7-9aeb-43cd-b2c5-d15f6f520219",
   "metadata": {},
   "outputs": [
    {
     "name": "stdin",
     "output_type": "stream",
     "text": [
      "Enter a sentence: stop and smell the roses.\n"
     ]
    },
    {
     "name": "stdout",
     "output_type": "stream",
     "text": [
      "Stop And Smell The Roses.\n"
     ]
    }
   ],
   "source": [
    "user_input = input(\"Enter a sentence:\")\n",
    "\n",
    "def capital(a):\n",
    "    words = a.split()\n",
    "    capital = [word.capitalize() for word in words]\n",
    "    result = ' '.join(capital)\n",
    "    \n",
    "    return result \n",
    "\n",
    "output = capital(user_input)\n",
    "print(output)"
   ]
  },
  {
   "cell_type": "markdown",
   "id": "a9418e86-5536-43b7-9e77-0a613cefb1bf",
   "metadata": {},
   "source": [
    "#### 8. Find the sum of each row of matrix of size m x n. For example for the following matrix output will be like this : \n",
    "- Sum of row 1 = 32\n",
    "- Sum of row 2 = 31\n",
    "- Sum of row 3 = 63\n"
   ]
  },
  {
   "cell_type": "code",
   "execution_count": 6,
   "id": "a2896b97-a17c-4ab0-8894-22916b8b90d8",
   "metadata": {},
   "outputs": [
    {
     "name": "stdout",
     "output_type": "stream",
     "text": [
      "Sum of row 1 = 32\n",
      "Sum of row 2 = 31\n",
      "Sum of row 3 = 63\n"
     ]
    }
   ],
   "source": [
    "matrix = [\n",
    "    [2, 11, 7, 12],\n",
    "    [5, 2, 9, 15],\n",
    "    [8, 3, 10, 42]\n",
    "]\n",
    "\n",
    "def sum_of_rows(matrix):\n",
    "    for i, row in enumerate(matrix):\n",
    "        row_sum = sum(row)\n",
    "        print(f\"Sum of row {i + 1} = {row_sum}\")\n",
    "\n",
    "sum_of_rows(matrix)"
   ]
  },
  {
   "cell_type": "markdown",
   "id": "15800d20-7dd2-447a-b6bd-cd0fd1a89261",
   "metadata": {},
   "source": [
    "#### 9. Write a program to add two matrices of size n x m. \r"
   ]
  },
  {
   "cell_type": "code",
   "execution_count": 9,
   "id": "4ade328f-24e0-4ae0-9884-d4569f3f0a53",
   "metadata": {},
   "outputs": [
    {
     "name": "stdout",
     "output_type": "stream",
     "text": [
      "Sum of the matrices:\n",
      "[5, 10, 17]\n",
      "[6, 8, 11]\n"
     ]
    }
   ],
   "source": [
    "matrix_1 = [\n",
    "    [4, 5, 8],\n",
    "    [3, 2, 7]\n",
    "]\n",
    "matrix_2 = [\n",
    "    [1, 5, 9],\n",
    "    [3, 6, 4]\n",
    "]\n",
    "\n",
    "def add_matrices(matrix_1, matrix_2):\n",
    "    n = len(matrix_1)\n",
    "    m = len(matrix_1[0])\n",
    "    \n",
    "    result = [[0 for _ in range(m)] for _ in range(n)]\n",
    "    \n",
    "    for i in range(n):\n",
    "        for j in range(m):\n",
    "            result[i][j] = matrix_1[i][j] + matrix_2[i][j]\n",
    "    \n",
    "    return result\n",
    "\n",
    "sum_matrix = add_matrices(matrix_1, matrix_2)\n",
    "\n",
    "print(\"Sum of the matrices:\")\n",
    "for row in sum_matrix:\n",
    "    print(row)"
   ]
  },
  {
   "cell_type": "markdown",
   "id": "23fb9762-2c00-4f2c-83de-7d14d4cd36cd",
   "metadata": {},
   "source": [
    "#### 10. Write a program to multiply two matrices "
   ]
  },
  {
   "cell_type": "code",
   "execution_count": 10,
   "id": "78862722-1531-4263-8694-c9835f8c438a",
   "metadata": {},
   "outputs": [
    {
     "name": "stdout",
     "output_type": "stream",
     "text": [
      "Product of the matrices:\n",
      "[19, 22]\n",
      "[43, 50]\n"
     ]
    }
   ],
   "source": [
    "matrix_1 = [\n",
    "    [1, 2],\n",
    "    [3, 4]\n",
    "]\n",
    "\n",
    "matrix_2 = [\n",
    "    [5, 6],\n",
    "    [7, 8]\n",
    "]\n",
    "\n",
    "def multiply_matrices(matrix_1, matrix_2):\n",
    "    n = len(matrix_1)\n",
    "    m = len(matrix_1[0])    \n",
    "    p = len(matrix_2[0])  \n",
    "\n",
    "    result = [[0 for _ in range(p)] for _ in range(n)]\n",
    "\n",
    "    for i in range(n):\n",
    "        for j in range(p):\n",
    "            result[i][j] = sum(matrix_1[i][k] * matrix_2[k][j] for k in range(m))\n",
    "    \n",
    "    return result\n",
    "\n",
    "product_matrix = multiply_matrices(matrix_1, matrix_2)\n",
    "\n",
    "print(\"Product of the matrices:\")\n",
    "for row in product_matrix:\n",
    "    print(row)\n"
   ]
  },
  {
   "cell_type": "code",
   "execution_count": null,
   "id": "13fa4d41-3705-4dea-878c-775ea3167984",
   "metadata": {},
   "outputs": [],
   "source": []
  }
 ],
 "metadata": {
  "kernelspec": {
   "display_name": "Python 3 (ipykernel)",
   "language": "python",
   "name": "python3"
  },
  "language_info": {
   "codemirror_mode": {
    "name": "ipython",
    "version": 3
   },
   "file_extension": ".py",
   "mimetype": "text/x-python",
   "name": "python",
   "nbconvert_exporter": "python",
   "pygments_lexer": "ipython3",
   "version": "3.11.7"
  }
 },
 "nbformat": 4,
 "nbformat_minor": 5
}
