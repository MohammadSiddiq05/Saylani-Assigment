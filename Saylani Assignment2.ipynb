{
 "cells": [
  {
   "cell_type": "markdown",
   "id": "5991a75c-bafc-45a3-a2e0-1a71b9b47c80",
   "metadata": {},
   "source": [
    "#### 1- Write a program that accept a string from user. Your program should count and display the number of vowels in that string.\n"
   ]
  },
  {
   "cell_type": "code",
   "execution_count": 5,
   "id": "82c5f42d-2ef2-4ecc-9406-94b02375bb55",
   "metadata": {},
   "outputs": [
    {
     "name": "stdout",
     "output_type": "stream",
     "text": [
      "Enter your string: \n",
      " opertion\n"
     ]
    },
    {
     "name": "stdout",
     "output_type": "stream",
     "text": [
      "o\n",
      "e\n",
      "i\n",
      "o\n",
      "Vowels:  4\n"
     ]
    }
   ],
   "source": [
    "user_input = input(\"Enter your string: \\n\" )\n",
    "vowels = \"aeiouAEIOU\"\n",
    "a = 0\n",
    "for b in user_input:\n",
    "    if b in vowels:\n",
    "        print(b)\n",
    "        a += 1\n",
    "        \n",
    "print(\"Vowels: \", a)\n",
    "        "
   ]
  },
  {
   "cell_type": "markdown",
   "id": "45af4ad2-0077-4d11-a5fb-3cba5080fa0f",
   "metadata": {},
   "source": [
    "#### 2-Write a program that reads a string from keyboard and display:\n",
    "- The number of uppercase letters in the string\n",
    "- The number of lowercase letters in the string\n",
    "- The number of digits in the string\n",
    "- The number of whitespace characters in the string"
   ]
  },
  {
   "cell_type": "code",
   "execution_count": 3,
   "id": "84cfb84a-e0c9-4f94-a149-80f68c4a63df",
   "metadata": {},
   "outputs": [
    {
     "name": "stdin",
     "output_type": "stream",
     "text": [
      "Enter Your string \n",
      " Muhammad Siddiq Shah 05\n"
     ]
    },
    {
     "name": "stdout",
     "output_type": "stream",
     "text": [
      "Upper case letters are: 3\n",
      "Lower case letters are: 15\n",
      "Number of digits are: 2\n",
      "Number of spaces are: 3\n"
     ]
    }
   ],
   "source": [
    "user_input = input(\"Enter Your string \\n\")\n",
    "uppercase = 0\n",
    "lowercase = 0\n",
    "digit = 0\n",
    "whitespace = 0\n",
    "\n",
    "for i in user_input:\n",
    "    if i.isupper():\n",
    "        uppercase += 1\n",
    "\n",
    "    elif i.islower():\n",
    "        lowercase += 1\n",
    "\n",
    "    elif i.isdigit():\n",
    "        digit += 1\n",
    "\n",
    "    elif i.isspace():\n",
    "        whitespace += 1\n",
    "\n",
    "print(f\"Upper case letters are: {uppercase}\")\n",
    "print(f\"Lower case letters are: {lowercase}\")\n",
    "print(f\"Number of digits are: {digit}\")\n",
    "print(f\"Number of spaces are: {whitespace}\")\n",
    "\n",
    "        \n",
    "        \n"
   ]
  },
  {
   "cell_type": "markdown",
   "id": "c0ab82e4-a332-446e-9f72-1ef3da906d28",
   "metadata": {},
   "source": [
    "#### 3- Write a Python program that accepts a string from user. Your program should create and display a new string where the first and last characters have been exchanged. \n",
    "\r",
    " "
   ]
  },
  {
   "cell_type": "code",
   "execution_count": 18,
   "id": "fb355f6e-7abc-43f0-9590-2f6dc7136308",
   "metadata": {},
   "outputs": [
    {
     "name": "stdin",
     "output_type": "stream",
     "text": [
      "Enter Your String: \n",
      " string\n"
     ]
    },
    {
     "name": "stdout",
     "output_type": "stream",
     "text": [
      "New string: gtrins\n"
     ]
    }
   ],
   "source": [
    "user_input = input(\"Enter Your String: \\n\")\n",
    "def character(s):\n",
    "    if len(s) <= 1:\n",
    "        return s\n",
    "    return s[-1] + s[1:-1] + s[0]\n",
    "print(\"New string:\", character(user_input))\n"
   ]
  },
  {
   "cell_type": "markdown",
   "id": "ae2e1ffa-e132-4659-b805-4edc98dc8762",
   "metadata": {},
   "source": [
    "#### 4- Write a Python program that accepts a string from user. Your program should create a new string inreverse of first string and display it"
   ]
  },
  {
   "cell_type": "code",
   "execution_count": 3,
   "id": "029e6a1f-c63e-408b-8bf6-aefabe842ba2",
   "metadata": {},
   "outputs": [
    {
     "name": "stdin",
     "output_type": "stream",
     "text": [
      "Enter Your String: \n",
      " siddiq\n"
     ]
    },
    {
     "name": "stdout",
     "output_type": "stream",
     "text": [
      "Reverse String qiddis\n"
     ]
    }
   ],
   "source": [
    "user_input = input(\"Enter Your String: \\n\")\n",
    "def string(z):\n",
    "    return z[::-1]\n",
    "\n",
    "print(\"Inverse String\", string(user_input))"
   ]
  },
  {
   "cell_type": "markdown",
   "id": "24340f99-0083-4944-ab43-ae74316eb799",
   "metadata": {},
   "source": [
    "#### 5. Write a Python program that accepts a string from user. Your program should create a new string by shifting one position to left. \n"
   ]
  },
  {
   "cell_type": "code",
   "execution_count": 3,
   "id": "8f11e4f1-c65e-4622-8817-f8896de3f697",
   "metadata": {},
   "outputs": [
    {
     "name": "stdin",
     "output_type": "stream",
     "text": [
      "Enter Your String:  examination 2021\n"
     ]
    },
    {
     "name": "stdout",
     "output_type": "stream",
     "text": [
      "New String xamination 2021e\n"
     ]
    }
   ],
   "source": [
    "user_input = input(\"Enter Your String: \")\n",
    "def pos(v):\n",
    "    if len(v) <= 1:\n",
    "        return v\n",
    "    return v[1:] + v[0]\n",
    "\n",
    "print(\"New String\", pos(user_input))"
   ]
  },
  {
   "cell_type": "markdown",
   "id": "6307af10-fa6b-4744-82b6-1ae861da6b35",
   "metadata": {},
   "source": [
    "#### 6. Write a program that asks the user to input his name and print its initials. Assuming that the user always types first name, middle name and last name and does not include any unnecessary spaces. \n",
    "Note:Don't use split() method \n"
   ]
  },
  {
   "cell_type": "code",
   "execution_count": 5,
   "id": "9015079e-405b-4ddb-a7a2-1a386580f827",
   "metadata": {},
   "outputs": [
    {
     "name": "stdin",
     "output_type": "stream",
     "text": [
      "Enter your full name:  Muhammad Siddiq Shah\n"
     ]
    },
    {
     "name": "stdout",
     "output_type": "stream",
     "text": [
      "Initials: M. S. S.\n"
     ]
    }
   ],
   "source": [
    "user_name = input(\"Enter your full name: \")\n",
    "\n",
    "def short_name(name):\n",
    "    initials = \"\"\n",
    "    add_initial = True\n",
    "    for char in name:\n",
    "        if add_initial:\n",
    "            initials += char.upper() + \". \"\n",
    "            add_initial = False\n",
    "        if char == ' ':\n",
    "            add_initial = True\n",
    "    return initials.strip()\n",
    "    \n",
    "print(\"Initials:\", short_name(user_name))"
   ]
  },
  {
   "cell_type": "markdown",
   "id": "ac7860ce-5706-43d6-b78c-1b50d0dbbfbf",
   "metadata": {},
   "source": [
    "#### 7. A palindrome is a string that reads the same backward as forward. For example, the words dad,madam and radar are all palindromes. Write a programs that determines whether the string is apalindrome.\n",
    "Note: do not use reverse() method"
   ]
  },
  {
   "cell_type": "code",
   "execution_count": 7,
   "id": "52c2c1c4-cd8b-4546-87bb-1f3f148ac5d7",
   "metadata": {},
   "outputs": [
    {
     "name": "stdin",
     "output_type": "stream",
     "text": [
      "Enter a string:  siddiq\n"
     ]
    },
    {
     "name": "stdout",
     "output_type": "stream",
     "text": [
      "The string is not a palindrome.\n"
     ]
    }
   ],
   "source": [
    "user_input = input(\"Enter a string: \")\n",
    "\n",
    "def is_palindrome(s):\n",
    "    s = s.replace(\" \", \"\").lower()\n",
    "    for i in range(len(s) // 2):\n",
    "        if s[i] != s[-(i + 1)]:\n",
    "            return False\n",
    "    return True\n",
    "\n",
    "if is_palindrome(user_input):\n",
    "    print(\"The string is a palindrome.\")\n",
    "else:\n",
    "    print(\"The string is not a palindrome.\")\n"
   ]
  },
  {
   "cell_type": "markdown",
   "id": "adf754b2-095a-4102-a738-3b829440b90e",
   "metadata": {},
   "source": [
    "#### 8. Write a program that display following output:\n",
    "- SHIFT\n",
    "- HIFTS\n",
    "- IFTSH\n",
    "- FTSHI\n",
    "- TSHIF\n"
   ]
  },
  {
   "cell_type": "code",
   "execution_count": 9,
   "id": "63a2f1da-87a0-4f48-b411-fbd5a3859fd4",
   "metadata": {},
   "outputs": [
    {
     "name": "stdout",
     "output_type": "stream",
     "text": [
      "SHIFT\n",
      "HIFTS\n",
      "IFTSH\n",
      "FTSHI\n",
      "TSHIF\n"
     ]
    }
   ],
   "source": [
    "input = \"SHIFT\"\n",
    "\n",
    "def changing_string(s):\n",
    "    result = []\n",
    "    for i in range(len(s)):\n",
    "        shifted_string = s[i:] + s[:i]\n",
    "        result.append(shifted_string)\n",
    "    return result\n",
    "\n",
    "shifted_strings = changing_string(input)\n",
    "for string in shifted_strings:\n",
    "    print(string)"
   ]
  },
  {
   "cell_type": "markdown",
   "id": "b267a427-a802-4884-8a39-7ce0ec5c0b59",
   "metadata": {},
   "source": [
    "#### Write a program in python that accepts a string to setup a passwords. Your entered password must meet the following requirements: The password must be at least eight characters long. It must contain at least one uppercase letter. It must contain at least one lowercase letter. It must contain at least one numeric digit. Your program should should perform this validation.\n"
   ]
  },
  {
   "cell_type": "code",
   "execution_count": 3,
   "id": "09b0e43a-cfc5-45d0-961c-f4b00200c0a4",
   "metadata": {},
   "outputs": [
    {
     "name": "stdin",
     "output_type": "stream",
     "text": [
      "Enter a password:  Siddiq09\n"
     ]
    },
    {
     "name": "stdout",
     "output_type": "stream",
     "text": [
      "Password is valid.\n"
     ]
    }
   ],
   "source": [
    "user_password = input(\"Enter a password: \")\n",
    "\n",
    "def check_password(password):\n",
    "    if len(password) < 8:\n",
    "        return \"Password must be at least eight characters long.\"\n",
    "    \n",
    "    if not any(char.isupper() for char in password):\n",
    "        return \"Password must contain at least one uppercase letter.\"\n",
    "    \n",
    "    if not any(char.islower() for char in password):\n",
    "        return \"Password must contain at least one lowercase letter.\"\n",
    "    \n",
    "    if not any(char.isdigit() for char in password):\n",
    "        return \"Password must contain at least one numeric digit.\"\n",
    "    \n",
    "    return \"Password is valid.\"\n",
    "\n",
    "result = check_password(user_password)\n",
    "print(result)"
   ]
  },
  {
   "cell_type": "code",
   "execution_count": null,
   "id": "3e408fbe-f377-4a70-9ad6-bef8dbee1007",
   "metadata": {},
   "outputs": [],
   "source": []
  }
 ],
 "metadata": {
  "kernelspec": {
   "display_name": "Python 3 (ipykernel)",
   "language": "python",
   "name": "python3"
  },
  "language_info": {
   "codemirror_mode": {
    "name": "ipython",
    "version": 3
   },
   "file_extension": ".py",
   "mimetype": "text/x-python",
   "name": "python",
   "nbconvert_exporter": "python",
   "pygments_lexer": "ipython3",
   "version": "3.11.7"
  }
 },
 "nbformat": 4,
 "nbformat_minor": 5
}
