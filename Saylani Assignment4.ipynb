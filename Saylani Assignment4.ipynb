{
 "cells": [
  {
   "cell_type": "markdown",
   "id": "54b54112-78e0-4fa8-bdda-ad91b55425b8",
   "metadata": {},
   "source": [
    "#### 1. Write a Python program to print the numbers from 1 to 10 using a for loop. \r"
   ]
  },
  {
   "cell_type": "code",
   "execution_count": 2,
   "id": "3c4b1117-1ee3-4657-a34e-88812535add4",
   "metadata": {},
   "outputs": [
    {
     "name": "stdout",
     "output_type": "stream",
     "text": [
      "1\n",
      "2\n",
      "3\n",
      "4\n",
      "5\n",
      "6\n",
      "7\n",
      "8\n",
      "9\n",
      "10\n"
     ]
    }
   ],
   "source": [
    "for number in range(1, 11):\n",
    "    print(number)"
   ]
  },
  {
   "cell_type": "markdown",
   "id": "f65d9f46-4e34-4400-bdcc-9434ea77942a",
   "metadata": {},
   "source": [
    "#### 2. Write a Python program to print the numbers from 20 to 1 using a while loop.\r"
   ]
  },
  {
   "cell_type": "code",
   "execution_count": 3,
   "id": "ae3ef7f5-8b46-4e53-8ce7-453398b71740",
   "metadata": {},
   "outputs": [
    {
     "name": "stdout",
     "output_type": "stream",
     "text": [
      "20\n",
      "19\n",
      "18\n",
      "17\n",
      "16\n",
      "15\n",
      "14\n",
      "13\n",
      "12\n",
      "11\n",
      "10\n",
      "9\n",
      "8\n",
      "7\n",
      "6\n",
      "5\n",
      "4\n",
      "3\n",
      "2\n",
      "1\n"
     ]
    }
   ],
   "source": [
    "number = 20\n",
    "\n",
    "while number >= 1:\n",
    "    print(number)\n",
    "    number -= 1"
   ]
  },
  {
   "cell_type": "markdown",
   "id": "a926f827-e418-4af5-885b-ce81a342f65a",
   "metadata": {},
   "source": [
    "#### 3. Write a program to print even numbers from 1 to 10. \r"
   ]
  },
  {
   "cell_type": "code",
   "execution_count": 11,
   "id": "8f473b2f-2722-49f6-b8f8-f02699b13cce",
   "metadata": {},
   "outputs": [
    {
     "name": "stdout",
     "output_type": "stream",
     "text": [
      "2\n",
      "4\n",
      "6\n",
      "8\n",
      "10\n"
     ]
    }
   ],
   "source": [
    "for number in range(1, 11):\n",
    "    if number % 2 == 0:\n",
    "        print(number)"
   ]
  },
  {
   "cell_type": "markdown",
   "id": "efd6412f-d07c-45d5-9cb0-88996b1993ca",
   "metadata": {},
   "source": [
    "#### 4. Write a program that prompts the user to enter a number n and prints all the \n",
    "numbers from 1 to n. "
   ]
  },
  {
   "cell_type": "code",
   "execution_count": 14,
   "id": "aa58051c-6fb3-4abe-9c10-209830631839",
   "metadata": {},
   "outputs": [
    {
     "name": "stdin",
     "output_type": "stream",
     "text": [
      "Enter a number: 12\n"
     ]
    },
    {
     "name": "stdout",
     "output_type": "stream",
     "text": [
      "1\n",
      "2\n",
      "3\n",
      "4\n",
      "5\n",
      "6\n",
      "7\n",
      "8\n",
      "9\n",
      "10\n",
      "11\n",
      "12\n"
     ]
    }
   ],
   "source": [
    "user_input = int(input(\"Enter a number:\"))\n",
    "for i in range(1, user_input + 1):\n",
    "    print(i)"
   ]
  },
  {
   "cell_type": "markdown",
   "id": "ed749a31-084b-4b72-9dcf-9f6d170ea80a",
   "metadata": {},
   "source": [
    "#### 5. Write a program that prompts the user to enter a number n, and then prints all the \n",
    "odd numbers between 1 and n. "
   ]
  },
  {
   "cell_type": "code",
   "execution_count": 18,
   "id": "7f1a548b-d72b-45eb-aacd-21bb238d7f8b",
   "metadata": {},
   "outputs": [
    {
     "name": "stdin",
     "output_type": "stream",
     "text": [
      "Enter a number: 10\n"
     ]
    },
    {
     "name": "stdout",
     "output_type": "stream",
     "text": [
      "1\n",
      "3\n",
      "5\n",
      "7\n",
      "9\n"
     ]
    }
   ],
   "source": [
    "user_input = int(input(\"Enter a number:\"))\n",
    "\n",
    "for number in range(1, user_input + 1, 2):\n",
    "    print(number)"
   ]
  },
  {
   "cell_type": "markdown",
   "id": "af4aea76-0973-407e-8146-ac6192121c36",
   "metadata": {},
   "source": [
    "#### 6. Write a program that prints 'Happy Birthday!' five times on screen. \r"
   ]
  },
  {
   "cell_type": "code",
   "execution_count": 21,
   "id": "a2df622b-bd07-4c80-a7f9-294ea1bacbcd",
   "metadata": {},
   "outputs": [
    {
     "name": "stdout",
     "output_type": "stream",
     "text": [
      "'Happy Birthday!'\n",
      "'Happy Birthday!'\n",
      "'Happy Birthday!'\n",
      "'Happy Birthday!'\n",
      "'Happy Birthday!'\n"
     ]
    }
   ],
   "source": [
    "for i in range(5):\n",
    "    print(\"'Happy Birthday!'\")"
   ]
  },
  {
   "cell_type": "markdown",
   "id": "50685b64-eb68-4e87-aea5-39b72a0f466f",
   "metadata": {},
   "source": [
    "#### 7. Write a program that takes a number n as input from the user and generates the first n terms of the series formed by squaring the natural numbers. Sample output Enter a number: 6\n",
    "- The first 6 terms of the series are:\n",
    "- 1 4 9 16 25 36 \n"
   ]
  },
  {
   "cell_type": "code",
   "execution_count": 25,
   "id": "3cae1f54-15a0-4c87-8ef2-dfd8030e1251",
   "metadata": {},
   "outputs": [
    {
     "name": "stdin",
     "output_type": "stream",
     "text": [
      "Enter a number: 6\n"
     ]
    },
    {
     "name": "stdout",
     "output_type": "stream",
     "text": [
      "The first 6 terms of the series are:\n",
      "1 4 9 16 25 36 "
     ]
    }
   ],
   "source": [
    "user_input = int(input(\"Enter a number:\"))\n",
    "print(f\"The first {user_input} terms of the series are:\")\n",
    "for i in range(1, user_input + 1):\n",
    "    print(i ** 2, end = ' ')\n",
    "    "
   ]
  },
  {
   "cell_type": "markdown",
   "id": "e98c7b50-3e63-4ded-acf8-64b6bebe0192",
   "metadata": {},
   "source": [
    "#### 8. Write a program that prompts the user to input a number and prints its multiplication \n",
    "table. "
   ]
  },
  {
   "cell_type": "code",
   "execution_count": 27,
   "id": "eb27ba21-59a4-4e3e-bc35-56ba68fe2ead",
   "metadata": {},
   "outputs": [
    {
     "name": "stdin",
     "output_type": "stream",
     "text": [
      "Enter a number: 4\n"
     ]
    },
    {
     "name": "stdout",
     "output_type": "stream",
     "text": [
      "Multiplication table of number 4 is:\n",
      "4 x 1 = 4\n",
      "4 x 2 = 8\n",
      "4 x 3 = 12\n",
      "4 x 4 = 16\n",
      "4 x 5 = 20\n",
      "4 x 6 = 24\n",
      "4 x 7 = 28\n",
      "4 x 8 = 32\n",
      "4 x 9 = 36\n",
      "4 x 10 = 40\n"
     ]
    }
   ],
   "source": [
    "user_input = int(input(\"Enter a number:\"))\n",
    "print(f\"Multiplication table of number {user_input} is:\")\n",
    "for i in range(1, 11):\n",
    "    print(f\"{user_input} x {i} = {user_input * i}\")"
   ]
  },
  {
   "cell_type": "markdown",
   "id": "6e892a93-99fa-4cb6-a809-3e0a4922f034",
   "metadata": {},
   "source": [
    "#### 9. Write a Python program to print the first 8 terms of an arithmetic progression starting  with 3 and having a common difference of 4 \r\n",
    "The program should output the following sequene :\r\n",
    "3 7 11 15 19  27 31231\r\n",
    "1"
   ]
  },
  {
   "cell_type": "code",
   "execution_count": 28,
   "id": "45a75510-6aac-4ddb-8458-6273f6a224a2",
   "metadata": {},
   "outputs": [
    {
     "name": "stdout",
     "output_type": "stream",
     "text": [
      "3 7 11 15 19 23 27 31 "
     ]
    }
   ],
   "source": [
    "first_term = 3\n",
    "common_difference = 4\n",
    "\n",
    "for i in range(8):\n",
    "    term = first_term + i * common_difference\n",
    "    print(term, end = ' ')"
   ]
  },
  {
   "cell_type": "markdown",
   "id": "a03750ac-dd1b-4694-8f57-e33c23299336",
   "metadata": {},
   "source": [
    "#### 10. Write a Python program to print the first 6 terms of a geometric sequence starting\r\n",
    "with 2 and having a common ratio of 3.\r\n",
    "The program should output the following sequence:\r\n",
    "2 6 18 54 162 486 "
   ]
  },
  {
   "cell_type": "code",
   "execution_count": 30,
   "id": "66858eff-98f8-4f3f-abb1-796dc7d8606c",
   "metadata": {},
   "outputs": [
    {
     "name": "stdout",
     "output_type": "stream",
     "text": [
      "2 6 18 54 162 486 "
     ]
    }
   ],
   "source": [
    "first_term = 2\n",
    "common_ratio = 3\n",
    "for i in range(6):\n",
    "    term = first_term * (common_ratio ** i)\n",
    "    print(term, end = ' ')"
   ]
  },
  {
   "cell_type": "markdown",
   "id": "34b46aef-d181-4db1-8e87-4e1e66e3732c",
   "metadata": {},
   "source": [
    "#### 11. Write a program that asks the user for a positive integer value. The program should calculate the sum of all the integers from 1 up to the number entered. For example, if the user enters 20, the loop will find the sum of 1, 2, 3, 4, ... 20. "
   ]
  },
  {
   "cell_type": "code",
   "execution_count": 36,
   "id": "09e04a36-9fbf-4ddb-a78d-b37ea7c18132",
   "metadata": {},
   "outputs": [
    {
     "name": "stdin",
     "output_type": "stream",
     "text": [
      "Enter a positive integer: 5\n"
     ]
    },
    {
     "name": "stdout",
     "output_type": "stream",
     "text": [
      "The sum of all integers from 1 to 5 is: 15\n"
     ]
    }
   ],
   "source": [
    "user_input = int(input(\"Enter a positive integer:\"))\n",
    "total_sum = 0 \n",
    "for number in range(1, user_input + 1):\n",
    "    total_sum += number\n",
    "print(f\"The sum of all integers from 1 to {user_input} is: {total_sum}\")"
   ]
  },
  {
   "cell_type": "markdown",
   "id": "03ce8a32-b7f4-403b-9bbd-5c8e48f6b654",
   "metadata": {},
   "source": [
    "#### 12. write a program that takes a positive integer N as input and calculates the sum of the reciprocals of all numbers from 1 up to N. The program should display the final sum.\n",
    "- Output of the program should be like:\n",
    "- Enter a positive integer: 5\n",
    "- The sum of reciprocals from 1 to 5 is: 2.28"
   ]
  },
  {
   "cell_type": "code",
   "execution_count": 35,
   "id": "a0cd35aa-e262-4dd4-9ada-9889994481b6",
   "metadata": {},
   "outputs": [
    {
     "name": "stdin",
     "output_type": "stream",
     "text": [
      "Enter a positive integer: 5\n"
     ]
    },
    {
     "name": "stdout",
     "output_type": "stream",
     "text": [
      "The sum of all integers from 1 to 5 is: 2.283333333333333\n"
     ]
    }
   ],
   "source": [
    "user_input = int(input(\"Enter a positive integer:\"))\n",
    "total_reciprocal_sum = 0 \n",
    "for number in range(1, user_input + 1):\n",
    "    total_reciprocal_sum += 1 / number\n",
    "print(f\"The sum of all integers from 1 to {user_input} is: {total_reciprocal_sum}\")"
   ]
  },
  {
   "cell_type": "markdown",
   "id": "be89d1cf-965a-4720-ba28-5aba40a1cda5",
   "metadata": {},
   "source": [
    "#### 13. Write a program that prompts the user to enter a number and repeats this process 5 times. The program should accumulate the numbers entered and then display the final running total.\n",
    "- Sample Output:\n",
    "- Enter a number: 10\n",
    "- Enter a number: 15\n",
    "- Enter a number: 35\n",
    "- Enter a number: 40\n",
    "- Enter a number: 50\n",
    "- The final running total is: 150 \n"
   ]
  },
  {
   "cell_type": "code",
   "execution_count": 38,
   "id": "10a7c7fc-cbe1-454f-9a56-399dcabbdac1",
   "metadata": {},
   "outputs": [
    {
     "name": "stdin",
     "output_type": "stream",
     "text": [
      "Enter a number: 1\n",
      "Enter a number: 2\n",
      "Enter a number: 3\n",
      "Enter a number: 4\n",
      "Enter a number: 5\n"
     ]
    },
    {
     "name": "stdout",
     "output_type": "stream",
     "text": [
      "The final running total is: 15\n"
     ]
    }
   ],
   "source": [
    "total_sum = 0\n",
    "\n",
    "for _ in range(5):\n",
    "    user_input = int(input(\"Enter a number:\"))\n",
    "    total_sum += user_input\n",
    "\n",
    "print(f\"The final running total is: {total_sum}\")"
   ]
  },
  {
   "cell_type": "markdown",
   "id": "774e93ed-62d5-428f-838b-0b52dc2e5940",
   "metadata": {},
   "source": [
    "#### 14. Write a program that prompts the user to enter a positive integer and calculates its factorial. The factorial of a positive integer 'n' is denoted as 'n!' and is calculated bymultiplying all the integers from 1 to 'n' together. For example, the factorial of 5(denoted as 5!) is calculated as 1 x 2 x 3 x 4 x 5. The program should display the factorial value if the input is a positive number, or display a message stating that the factorial does not exist for negative numbers. Additionally, for an input of zero, the program should output that the factorial of 0 is 1. \n"
   ]
  },
  {
   "cell_type": "code",
   "execution_count": 39,
   "id": "802b9713-282d-4e2b-9f78-aec8f7bc46bf",
   "metadata": {},
   "outputs": [
    {
     "name": "stdin",
     "output_type": "stream",
     "text": [
      "Enter a positive interger: 5\n"
     ]
    },
    {
     "name": "stdout",
     "output_type": "stream",
     "text": [
      "The factorial of 5 is: 120\n"
     ]
    }
   ],
   "source": [
    "user_input = int(input(\"Enter a positive interger:\"))\n",
    "factorial = 1\n",
    "if user_input < 0:\n",
    "    print(\"Enter a positive number\")\n",
    "elif user_input == 0:\n",
    "    print(\"The factorial of 0 is 1\")\n",
    "\n",
    "else:\n",
    "    for i in range(1, user_input + 1):\n",
    "        factorial *= i\n",
    "\n",
    "print(f\"The factorial of {user_input} is: {factorial}\")"
   ]
  },
  {
   "cell_type": "markdown",
   "id": "ee3066aa-3e1c-4fc9-979f-e5f04f23d45b",
   "metadata": {},
   "source": [
    "#### 15. Write a Python program that prompts the user to enter a base number and an exponent, and then calculates the power of the base to the exponent. The program should not use the exponentiation operator (**) or the math.pow() function. The program should handle both positive and negative exponents. "
   ]
  },
  {
   "cell_type": "code",
   "execution_count": 40,
   "id": "9f565a58-0e60-4c3a-9cbb-310e8a0959df",
   "metadata": {},
   "outputs": [
    {
     "name": "stdin",
     "output_type": "stream",
     "text": [
      "Enter the base number:  4\n",
      "Enter the exponent:  2\n"
     ]
    },
    {
     "name": "stdout",
     "output_type": "stream",
     "text": [
      "4.0 to the power of 2 is 16.0.\n"
     ]
    }
   ],
   "source": [
    "base = float(input(\"Enter the base number: \"))\n",
    "exponent = int(input(\"Enter the exponent: \"))\n",
    "\n",
    "result = 1\n",
    "\n",
    "if exponent > 0:\n",
    "    for _ in range(exponent):\n",
    "        result *= base\n",
    "elif exponent < 0:\n",
    "    for _ in range(-exponent):\n",
    "        result /= base\n",
    "else:\n",
    "    result = 1\n",
    "\n",
    "print(f\"{base} to the power of {exponent} is {result}.\")"
   ]
  },
  {
   "cell_type": "code",
   "execution_count": null,
   "id": "5b5ae028-798e-4921-8b7d-a4267d68f88e",
   "metadata": {},
   "outputs": [],
   "source": []
  }
 ],
 "metadata": {
  "kernelspec": {
   "display_name": "Python 3 (ipykernel)",
   "language": "python",
   "name": "python3"
  },
  "language_info": {
   "codemirror_mode": {
    "name": "ipython",
    "version": 3
   },
   "file_extension": ".py",
   "mimetype": "text/x-python",
   "name": "python",
   "nbconvert_exporter": "python",
   "pygments_lexer": "ipython3",
   "version": "3.11.7"
  }
 },
 "nbformat": 4,
 "nbformat_minor": 5
}
